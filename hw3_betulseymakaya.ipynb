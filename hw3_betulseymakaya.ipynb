{
 "cells": [
  {
   "cell_type": "code",
   "execution_count": 1,
   "metadata": {},
   "outputs": [],
   "source": [
    "import nsfg"
   ]
  },
  {
   "cell_type": "code",
   "execution_count": 2,
   "metadata": {},
   "outputs": [],
   "source": [
    "data=nsfg.ReadFemResp()"
   ]
  },
  {
   "cell_type": "code",
   "execution_count": 3,
   "metadata": {},
   "outputs": [],
   "source": [
    "def stsapma (a, b, *y):\n",
    "    N = len(y) + 2\n",
    "    sum = a + b\n",
    "    for z in y:\n",
    "        sum += z\n",
    "    avarage = 1.0 * sum / N\n",
    "    \n",
    "    squaresum = (a - avarage)**2 + (b - avarage)**2\n",
    "    for z in y:\n",
    "        squaresum += (z - avarage)**2\n",
    "    stsapma = math.sqrt (1.0 * squaresum / (N-1))\n",
    "    \n",
    "    return avarage, stsapma"
   ]
  },
  {
   "cell_type": "code",
   "execution_count": 4,
   "metadata": {},
   "outputs": [],
   "source": [
    "from __future__ import print_function, division\n",
    "\n",
    "import thinkstats2\n",
    "import numpy as np\n",
    "import nsfg\n",
    "import thinkplot"
   ]
  },
  {
   "cell_type": "code",
   "execution_count": 5,
   "metadata": {},
   "outputs": [
    {
     "data": {
      "text/plain": [
       "1       2.0\n",
       "2       1.0\n",
       "5       1.0\n",
       "8       1.0\n",
       "10      1.0\n",
       "11      1.0\n",
       "12      1.0\n",
       "13      2.0\n",
       "14      1.0\n",
       "16      1.0\n",
       "17      1.0\n",
       "19      1.0\n",
       "21      1.0\n",
       "22      1.0\n",
       "23      1.0\n",
       "24      1.0\n",
       "27      1.0\n",
       "28      1.0\n",
       "29      1.0\n",
       "30      1.0\n",
       "31      1.0\n",
       "33      1.0\n",
       "34      1.0\n",
       "35      1.0\n",
       "36      1.0\n",
       "38      1.0\n",
       "42      2.0\n",
       "43      1.0\n",
       "44      1.0\n",
       "45      2.0\n",
       "       ... \n",
       "7583    1.0\n",
       "7590    1.0\n",
       "7591    1.0\n",
       "7593    1.0\n",
       "7598    2.0\n",
       "7599    3.0\n",
       "7601    1.0\n",
       "7603    1.0\n",
       "7605    1.0\n",
       "7606    1.0\n",
       "7607    3.0\n",
       "7608    1.0\n",
       "7609    4.0\n",
       "7612    1.0\n",
       "7614    1.0\n",
       "7616    2.0\n",
       "7617    1.0\n",
       "7618    1.0\n",
       "7619    1.0\n",
       "7620    1.0\n",
       "7624    1.0\n",
       "7629    1.0\n",
       "7630    1.0\n",
       "7632    1.0\n",
       "7633    1.0\n",
       "7634    1.0\n",
       "7635    1.0\n",
       "7636    1.0\n",
       "7637    1.0\n",
       "7638    2.0\n",
       "Name: timesmar, Length: 4126, dtype: float64"
      ]
     },
     "execution_count": 5,
     "metadata": {},
     "output_type": "execute_result"
    }
   ],
   "source": [
    "info1= data.timesmar.dropna()\n",
    "info1"
   ]
  },
  {
   "cell_type": "code",
   "execution_count": 6,
   "metadata": {},
   "outputs": [
    {
     "data": {
      "text/plain": [
       "4.297113023253083"
      ]
     },
     "execution_count": 6,
     "metadata": {},
     "output_type": "execute_result"
    }
   ],
   "source": [
    "info1.std()"
   ]
  },
  {
   "cell_type": "code",
   "execution_count": 7,
   "metadata": {},
   "outputs": [
    {
     "data": {
      "text/plain": [
       "1.387057682985943"
      ]
     },
     "execution_count": 7,
     "metadata": {},
     "output_type": "execute_result"
    }
   ],
   "source": [
    "info1.mean()"
   ]
  },
  {
   "cell_type": "code",
   "execution_count": 8,
   "metadata": {},
   "outputs": [
    {
     "data": {
      "text/plain": [
       "11      1.0\n",
       "12      2.0\n",
       "13      1.0\n",
       "25      3.0\n",
       "29      2.0\n",
       "43      1.0\n",
       "45      1.0\n",
       "48      2.0\n",
       "51      2.0\n",
       "57      2.0\n",
       "58      2.0\n",
       "60      2.0\n",
       "74      1.0\n",
       "81      1.0\n",
       "85      1.0\n",
       "88      2.0\n",
       "91      5.0\n",
       "100     4.0\n",
       "104     1.0\n",
       "116     5.0\n",
       "121     2.0\n",
       "127     1.0\n",
       "128     1.0\n",
       "140     2.0\n",
       "141     1.0\n",
       "150     2.0\n",
       "169     1.0\n",
       "183     1.0\n",
       "196     1.0\n",
       "197     3.0\n",
       "       ... \n",
       "7463    1.0\n",
       "7471    2.0\n",
       "7487    1.0\n",
       "7488    1.0\n",
       "7490    5.0\n",
       "7498    1.0\n",
       "7505    1.0\n",
       "7507    4.0\n",
       "7528    3.0\n",
       "7529    2.0\n",
       "7533    1.0\n",
       "7534    2.0\n",
       "7537    2.0\n",
       "7542    1.0\n",
       "7547    2.0\n",
       "7552    3.0\n",
       "7558    1.0\n",
       "7559    2.0\n",
       "7567    2.0\n",
       "7572    2.0\n",
       "7573    1.0\n",
       "7583    2.0\n",
       "7591    1.0\n",
       "7596    2.0\n",
       "7597    2.0\n",
       "7614    2.0\n",
       "7617    2.0\n",
       "7620    1.0\n",
       "7623    2.0\n",
       "7638    2.0\n",
       "Name: jintendn, Length: 1408, dtype: float64"
      ]
     },
     "execution_count": 8,
     "metadata": {},
     "output_type": "execute_result"
    }
   ],
   "source": [
    "info2=data.jintendn.dropna()\n",
    "info2"
   ]
  },
  {
   "cell_type": "code",
   "execution_count": 9,
   "metadata": {},
   "outputs": [
    {
     "data": {
      "text/plain": [
       "9.710108051456988"
      ]
     },
     "execution_count": 9,
     "metadata": {},
     "output_type": "execute_result"
    }
   ],
   "source": [
    "info2.std()"
   ]
  },
  {
   "cell_type": "code",
   "execution_count": 10,
   "metadata": {},
   "outputs": [
    {
     "data": {
      "text/plain": [
       "2.7052556818181817"
      ]
     },
     "execution_count": 10,
     "metadata": {},
     "output_type": "execute_result"
    }
   ],
   "source": [
    "info2.mean()"
   ]
  },
  {
   "cell_type": "code",
   "execution_count": 11,
   "metadata": {},
   "outputs": [],
   "source": [
    "std_a=info1.std()"
   ]
  },
  {
   "cell_type": "code",
   "execution_count": 12,
   "metadata": {},
   "outputs": [],
   "source": [
    "mean_a=info1.mean()"
   ]
  },
  {
   "cell_type": "code",
   "execution_count": 13,
   "metadata": {},
   "outputs": [],
   "source": [
    "std_b=info2.std()"
   ]
  },
  {
   "cell_type": "code",
   "execution_count": 14,
   "metadata": {},
   "outputs": [],
   "source": [
    "mean_b=info2.mean()"
   ]
  },
  {
   "cell_type": "code",
   "execution_count": 17,
   "metadata": {},
   "outputs": [
    {
     "data": {
      "text/plain": [
       "0.05631006752900393"
      ]
     },
     "execution_count": 17,
     "metadata": {},
     "output_type": "execute_result"
    }
   ],
   "source": [
    "std_a=info1.std()\n",
    "pdfunction1=thinkstats2.NormalPdf(mean_a,std_a)\n",
    "pdfunction1.Density(mean_a+std_a)"
   ]
  },
  {
   "cell_type": "code",
   "execution_count": 18,
   "metadata": {},
   "outputs": [
    {
     "data": {
      "text/plain": [
       "0.024919467758428907"
      ]
     },
     "execution_count": 18,
     "metadata": {},
     "output_type": "execute_result"
    }
   ],
   "source": [
    "pdfunction2=thinkstats2.NormalPdf(mean_b,std_b)\n",
    "pdfunction2.Density(mean_b+std_b)"
   ]
  },
  {
   "cell_type": "code",
   "execution_count": 19,
   "metadata": {},
   "outputs": [
    {
     "data": {
      "text/plain": [
       "1.0"
      ]
     },
     "execution_count": 19,
     "metadata": {},
     "output_type": "execute_result"
    }
   ],
   "source": [
    "info1.median()\n",
    "info2.median()"
   ]
  },
  {
   "cell_type": "code",
   "execution_count": 20,
   "metadata": {},
   "outputs": [],
   "source": [
    "def Raw_mom(xs,k):\n",
    "    return sum(x**k for x in xs)/len(xs)"
   ]
  },
  {
   "cell_type": "code",
   "execution_count": 22,
   "metadata": {},
   "outputs": [
    {
     "data": {
      "text/plain": [
       "(1.387057682985943, 20.384634028114398, 1841.8805138148327)"
      ]
     },
     "execution_count": 22,
     "metadata": {},
     "output_type": "execute_result"
    }
   ],
   "source": [
    "Raw_mom(info1,1), Raw_mom(info1,2), Raw_mom(info1,3)"
   ]
  },
  {
   "cell_type": "code",
   "execution_count": 24,
   "metadata": {},
   "outputs": [
    {
     "data": {
      "text/plain": [
       "(-1.2793127358889589e-15, 18.460705012183197, 1762.3937251304174)"
      ]
     },
     "execution_count": 24,
     "metadata": {},
     "output_type": "execute_result"
    }
   ],
   "source": [
    "def Cent_mom(xs,k):\n",
    "    info1_mean=Raw_mom(xs,1)\n",
    "    info1_sum_list=[(x-info1_mean)**k for x in xs]\n",
    "    return sum(info1_sum_list)/len(info1_sum_list)\n",
    "Cent_mom(info1,1),Cent_mom(info1,2),Cent_mom(info1,3)"
   ]
  },
  {
   "cell_type": "code",
   "execution_count": 28,
   "metadata": {},
   "outputs": [
    {
     "data": {
      "text/plain": [
       "(-2.9775055665951693e-16, 1.0000000000000002, 22.219307220678285)"
      ]
     },
     "execution_count": 28,
     "metadata": {},
     "output_type": "execute_result"
    }
   ],
   "source": [
    "def standart_mom(xs,k):\n",
    "    var=Cent_mom(xs,2)\n",
    "    std=np.sqrt(var)\n",
    "    \n",
    "    return Cent_mom(xs,k)/std**k\n",
    "standart_mom(info1,1),standart_mom(info1,2),standart_mom(info1,3)"
   ]
  },
  {
   "cell_type": "code",
   "execution_count": 29,
   "metadata": {},
   "outputs": [],
   "source": [
    "def skew(xs):\n",
    "    return standart_mom(xs,3)"
   ]
  },
  {
   "cell_type": "code",
   "execution_count": 53,
   "metadata": {},
   "outputs": [
    {
     "data": {
      "text/plain": [
       "22.219307220678285"
      ]
     },
     "execution_count": 53,
     "metadata": {},
     "output_type": "execute_result"
    }
   ],
   "source": [
    "skew(info1)"
   ]
  },
  {
   "cell_type": "code",
   "execution_count": null,
   "metadata": {},
   "outputs": [],
   "source": []
  },
  {
   "cell_type": "code",
   "execution_count": null,
   "metadata": {},
   "outputs": [],
   "source": []
  },
  {
   "cell_type": "code",
   "execution_count": 92,
   "metadata": {},
   "outputs": [
    {
     "data": {
      "text/plain": [
       "1.0"
      ]
     },
     "execution_count": 92,
     "metadata": {},
     "output_type": "execute_result"
    }
   ],
   "source": [
    "def Median(xs):\n",
    "    cdf=thinkstats2.Cdf(xs)\n",
    "    return cdf.Value(0.5)\n",
    "Median(info1)"
   ]
  },
  {
   "cell_type": "code",
   "execution_count": 93,
   "metadata": {},
   "outputs": [
    {
     "data": {
      "text/plain": [
       "1.387057682985943"
      ]
     },
     "execution_count": 93,
     "metadata": {},
     "output_type": "execute_result"
    }
   ],
   "source": [
    "def mean(xs):\n",
    "    return Raw_mom(xs,1)\n",
    "mean(info1)"
   ]
  },
  {
   "cell_type": "code",
   "execution_count": 94,
   "metadata": {},
   "outputs": [],
   "source": [
    "def Pearson_Median_Skewness(xs):\n",
    "    median= Median(xs)\n",
    "    mean=Raw_mom(xs,1)\n",
    "    var=Cent_mom(xs,2)\n",
    "    std=np.sqrt(var)\n",
    "    gp = 3 * (mean-median)/std\n",
    "    return gp"
   ]
  },
  {
   "cell_type": "code",
   "execution_count": 95,
   "metadata": {},
   "outputs": [
    {
     "data": {
      "text/plain": [
       "0.27025442021022084"
      ]
     },
     "execution_count": 95,
     "metadata": {},
     "output_type": "execute_result"
    }
   ],
   "source": [
    "Pearson_Median_Skewness (info1)"
   ]
  },
  {
   "cell_type": "code",
   "execution_count": 87,
   "metadata": {},
   "outputs": [
    {
     "data": {
      "text/plain": [
       "22.219307220678285"
      ]
     },
     "execution_count": 87,
     "metadata": {},
     "output_type": "execute_result"
    }
   ],
   "source": [
    "skew(info1)"
   ]
  },
  {
   "cell_type": "code",
   "execution_count": 79,
   "metadata": {},
   "outputs": [
    {
     "data": {
      "text/plain": [
       "(9.686914057933583, 0.5270368429720083)"
      ]
     },
     "execution_count": 79,
     "metadata": {},
     "output_type": "execute_result"
    }
   ],
   "source": [
    "skew(info2), Pearson_Median_Skewness(info2)"
   ]
  },
  {
   "cell_type": "code",
   "execution_count": null,
   "metadata": {},
   "outputs": [],
   "source": []
  }
 ],
 "metadata": {
  "kernelspec": {
   "display_name": "Python 2",
   "language": "python",
   "name": "python2"
  },
  "language_info": {
   "codemirror_mode": {
    "name": "ipython",
    "version": 2
   },
   "file_extension": ".py",
   "mimetype": "text/x-python",
   "name": "python",
   "nbconvert_exporter": "python",
   "pygments_lexer": "ipython2",
   "version": "2.7.15"
  }
 },
 "nbformat": 4,
 "nbformat_minor": 2
}
